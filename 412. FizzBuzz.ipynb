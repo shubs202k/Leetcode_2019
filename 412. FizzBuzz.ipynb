{
 "cells": [
  {
   "cell_type": "code",
   "execution_count": 57,
   "metadata": {},
   "outputs": [],
   "source": [
    "from typing import List\n",
    "class Solution:\n",
    "    def fizzBuzz(self, n: int) -> List[str]:\n",
    "        ranges = [num for num in range(1,n+1)]\n",
    "        for number in range(len(ranges)):\n",
    "            if (ranges[number] % 3 == 0) and (ranges[number] % 5) == 0 :\n",
    "                ranges[number] = 'FizzBuzz'\n",
    "            elif ranges[number] % 5 == 0:\n",
    "                ranges[number]  = 'Buzz'\n",
    "            elif ranges[number] % 3 == 0:\n",
    "                ranges[number] = 'Fizz'\n",
    "            else:\n",
    "                ranges[number] = str(ranges[number])  \n",
    "        return ranges"
   ]
  },
  {
   "cell_type": "code",
   "execution_count": null,
   "metadata": {},
   "outputs": [],
   "source": []
  }
 ],
 "metadata": {
  "kernelspec": {
   "display_name": "Python 3",
   "language": "python",
   "name": "python3"
  },
  "language_info": {
   "codemirror_mode": {
    "name": "ipython",
    "version": 3
   },
   "file_extension": ".py",
   "mimetype": "text/x-python",
   "name": "python",
   "nbconvert_exporter": "python",
   "pygments_lexer": "ipython3",
   "version": "3.7.3"
  }
 },
 "nbformat": 4,
 "nbformat_minor": 2
}
