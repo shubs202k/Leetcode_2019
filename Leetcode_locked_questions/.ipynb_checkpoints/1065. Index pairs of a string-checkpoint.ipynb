{
 "cells": [
  {
   "cell_type": "code",
   "execution_count": 95,
   "metadata": {},
   "outputs": [],
   "source": [
    "from typing import List\n",
    "class Solution:\n",
    "    def indexPairs(self, text: str, words: List[str]) -> List[List[int]]:\n",
    "        result = []\n",
    "        for word in words:\n",
    "            index = 0\n",
    "            while True:\n",
    "                index = text.find(word, index)\n",
    "                if index != -1:\n",
    "                    result.append([index, index+len(word)-1])\n",
    "                    index += 1\n",
    "                else:\n",
    "                    break\n",
    "        result.sort(key=lambda x:(x[0],x[1]))\n",
    "        return result"
   ]
  },
  {
   "cell_type": "code",
   "execution_count": null,
   "metadata": {},
   "outputs": [],
   "source": []
  }
 ],
 "metadata": {
  "kernelspec": {
   "display_name": "Python 3",
   "language": "python",
   "name": "python3"
  },
  "language_info": {
   "codemirror_mode": {
    "name": "ipython",
    "version": 3
   },
   "file_extension": ".py",
   "mimetype": "text/x-python",
   "name": "python",
   "nbconvert_exporter": "python",
   "pygments_lexer": "ipython3",
   "version": "3.7.3"
  }
 },
 "nbformat": 4,
 "nbformat_minor": 2
}
