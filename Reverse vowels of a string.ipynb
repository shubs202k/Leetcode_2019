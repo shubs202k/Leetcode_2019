{
 "cells": [
  {
   "cell_type": "code",
   "execution_count": 1,
   "metadata": {},
   "outputs": [],
   "source": [
    "class Solution:\n",
    "    def reverseVowels(self, s: str) -> str:\n",
    "        import re\n",
    "        vowels = ['a','e','i','o','u','A','E','I','O','U']\n",
    "        chars = list(re.sub(r'[aeiouAEIOU]','',s))\n",
    "        mapping = dict(zip([index for index in range(len(s)) if s[index] in vowels]\n",
    "                           ,re.findall(r'[aeiouAEIOU]',s)[::-1]))\n",
    "        for index,punct in mapping.items():\n",
    "            chars.insert(index,mapping[index]) \n",
    "        return ''.join(chars)"
   ]
  },
  {
   "cell_type": "code",
   "execution_count": null,
   "metadata": {},
   "outputs": [],
   "source": []
  }
 ],
 "metadata": {
  "kernelspec": {
   "display_name": "Python 3",
   "language": "python",
   "name": "python3"
  },
  "language_info": {
   "codemirror_mode": {
    "name": "ipython",
    "version": 3
   },
   "file_extension": ".py",
   "mimetype": "text/x-python",
   "name": "python",
   "nbconvert_exporter": "python",
   "pygments_lexer": "ipython3",
   "version": "3.7.3"
  }
 },
 "nbformat": 4,
 "nbformat_minor": 2
}
