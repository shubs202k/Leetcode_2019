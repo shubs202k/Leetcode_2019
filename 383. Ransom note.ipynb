{
 "cells": [
  {
   "cell_type": "code",
   "execution_count": 94,
   "metadata": {},
   "outputs": [],
   "source": [
    "class Solution:\n",
    "    def canConstruct(self, ransomNote: str, magazine: str) -> bool:\n",
    "        from collections import Counter\n",
    "        rN = Counter(ransomNote)\n",
    "        mG = Counter(magazine)\n",
    "        if not ransomNote and not magazine:\n",
    "            return True\n",
    "        if not ransomNote:\n",
    "            return True\n",
    "        result = [key for key in mG if key in rN and rN[key] <= mG[key]]\n",
    "        if not result:\n",
    "            return False\n",
    "        elif len(result) == len(list(set(ransomNote))):\n",
    "            return True\n",
    "        elif len(result) != len(list(set(ransomNote))):\n",
    "            return False"
   ]
  },
  {
   "cell_type": "code",
   "execution_count": null,
   "metadata": {},
   "outputs": [],
   "source": []
  }
 ],
 "metadata": {
  "kernelspec": {
   "display_name": "Python 3",
   "language": "python",
   "name": "python3"
  },
  "language_info": {
   "codemirror_mode": {
    "name": "ipython",
    "version": 3
   },
   "file_extension": ".py",
   "mimetype": "text/x-python",
   "name": "python",
   "nbconvert_exporter": "python",
   "pygments_lexer": "ipython3",
   "version": "3.7.3"
  }
 },
 "nbformat": 4,
 "nbformat_minor": 2
}
