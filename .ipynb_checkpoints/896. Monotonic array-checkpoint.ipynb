{
 "cells": [
  {
   "cell_type": "code",
   "execution_count": 6,
   "metadata": {},
   "outputs": [],
   "source": [
    "from typing import List\n",
    "class Solution:\n",
    "    def isMonotonic(self, A: List[int]) -> bool:\n",
    "        increasing = []\n",
    "        decreasing = []\n",
    "        if len(A) == 1:\n",
    "            return True\n",
    "        for digit in range(1,len(A)):\n",
    "            increasing.append(A[digit] >= A[digit - 1])\n",
    "        for digit in range(0,len(A)-1):\n",
    "            decreasing.append(A[digit] >= A[digit + 1])    \n",
    "        if all(increasing) or all(decreasing):\n",
    "            return True\n",
    "        return False"
   ]
  },
  {
   "cell_type": "code",
   "execution_count": null,
   "metadata": {},
   "outputs": [],
   "source": []
  }
 ],
 "metadata": {
  "kernelspec": {
   "display_name": "Python 3",
   "language": "python",
   "name": "python3"
  },
  "language_info": {
   "codemirror_mode": {
    "name": "ipython",
    "version": 3
   },
   "file_extension": ".py",
   "mimetype": "text/x-python",
   "name": "python",
   "nbconvert_exporter": "python",
   "pygments_lexer": "ipython3",
   "version": "3.7.3"
  }
 },
 "nbformat": 4,
 "nbformat_minor": 2
}
