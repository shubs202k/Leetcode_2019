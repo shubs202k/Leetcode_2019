{
 "cells": [
  {
   "cell_type": "code",
   "execution_count": 278,
   "metadata": {},
   "outputs": [],
   "source": [
    "from typing import List\n",
    "class Solution:\n",
    "    def containsNearbyDuplicate(self, nums: List[int], k: int) -> bool:\n",
    "        import numpy as np\n",
    "        if len(nums) == len(set(nums)):\n",
    "            return False\n",
    "        counts = {index:value for index,value in enumerate(nums) if nums.count(value) > 1}\n",
    "        sets = set(counts.values())\n",
    "        d = {}\n",
    "        for n in sets:\n",
    "            d[n] = [k for k in counts.keys() if counts[k] == n]\n",
    "        for elem,indexes in d.items():\n",
    "            if any(num for num in list(np.diff(indexes)) if num <= k):\n",
    "                return True\n",
    "        return False    "
   ]
  }
 ],
 "metadata": {
  "kernelspec": {
   "display_name": "Python 3",
   "language": "python",
   "name": "python3"
  },
  "language_info": {
   "codemirror_mode": {
    "name": "ipython",
    "version": 3
   },
   "file_extension": ".py",
   "mimetype": "text/x-python",
   "name": "python",
   "nbconvert_exporter": "python",
   "pygments_lexer": "ipython3",
   "version": "3.7.3"
  }
 },
 "nbformat": 4,
 "nbformat_minor": 2
}
