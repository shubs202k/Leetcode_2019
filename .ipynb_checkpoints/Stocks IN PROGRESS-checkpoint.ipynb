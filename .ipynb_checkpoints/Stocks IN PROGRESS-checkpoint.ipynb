{
 "cells": [
  {
   "cell_type": "code",
   "execution_count": 233,
   "metadata": {},
   "outputs": [],
   "source": [
    "prices = [3,2,6,5,0,3]"
   ]
  },
  {
   "cell_type": "code",
   "execution_count": 234,
   "metadata": {},
   "outputs": [],
   "source": [
    "maxindex = prices.index(max(prices))"
   ]
  },
  {
   "cell_type": "code",
   "execution_count": 235,
   "metadata": {},
   "outputs": [],
   "source": [
    "minindex = prices.index(min(prices))"
   ]
  },
  {
   "cell_type": "code",
   "execution_count": 236,
   "metadata": {},
   "outputs": [
    {
     "data": {
      "text/plain": [
       "2"
      ]
     },
     "execution_count": 236,
     "metadata": {},
     "output_type": "execute_result"
    }
   ],
   "source": [
    "maxindex"
   ]
  },
  {
   "cell_type": "code",
   "execution_count": 237,
   "metadata": {},
   "outputs": [
    {
     "data": {
      "text/plain": [
       "4"
      ]
     },
     "execution_count": 237,
     "metadata": {},
     "output_type": "execute_result"
    }
   ],
   "source": [
    "minindex"
   ]
  },
  {
   "cell_type": "code",
   "execution_count": 238,
   "metadata": {},
   "outputs": [],
   "source": [
    "prices = prices[1:]"
   ]
  },
  {
   "cell_type": "code",
   "execution_count": 239,
   "metadata": {},
   "outputs": [
    {
     "data": {
      "text/plain": [
       "[2, 6, 5, 0, 3]"
      ]
     },
     "execution_count": 239,
     "metadata": {},
     "output_type": "execute_result"
    }
   ],
   "source": [
    "prices"
   ]
  },
  {
   "cell_type": "code",
   "execution_count": 240,
   "metadata": {},
   "outputs": [],
   "source": [
    "prices = prices[prices.index(min(prices)):]"
   ]
  },
  {
   "cell_type": "code",
   "execution_count": 241,
   "metadata": {},
   "outputs": [
    {
     "data": {
      "text/plain": [
       "[0, 3]"
      ]
     },
     "execution_count": 241,
     "metadata": {},
     "output_type": "execute_result"
    }
   ],
   "source": [
    "prices"
   ]
  },
  {
   "cell_type": "code",
   "execution_count": null,
   "metadata": {},
   "outputs": [],
   "source": [
    "prices[prices.index(min(prices)):]"
   ]
  },
  {
   "cell_type": "code",
   "execution_count": null,
   "metadata": {},
   "outputs": [],
   "source": [
    "prices = list(dict.fromkeys(prices))"
   ]
  },
  {
   "cell_type": "code",
   "execution_count": null,
   "metadata": {},
   "outputs": [],
   "source": [
    "prices"
   ]
  },
  {
   "cell_type": "code",
   "execution_count": null,
   "metadata": {},
   "outputs": [],
   "source": [
    "from typing import List\n",
    "class Solution:\n",
    "    def maxProfit(self, prices: List[int]) -> int:\n",
    "        if prices == sorted(prices, reverse = True):\n",
    "            return 0\n",
    "        elif prices == sorted(prices):\n",
    "            return prices[-1] - prices[0]\n",
    "        elif max(prices) != prices[0]:\n",
    "            del prices[prices.index(max(prices))+1:]\n",
    "            prices = list(dict.fromkeys(prices))\n",
    "            return max(prices) - min(prices)\n",
    "        else:\n",
    "            prices = prices[1:]\n",
    "            del prices[prices.index(max(prices))+1:]\n",
    "            prices = list(dict.fromkeys(prices))\n",
    "            return max(prices) - min(prices)"
   ]
  },
  {
   "cell_type": "code",
   "execution_count": null,
   "metadata": {},
   "outputs": [],
   "source": [
    "from typing import List\n",
    "class Solution:\n",
    "    def maxProfit(self, prices: List[int]) -> int:\n",
    "        if not prices:\n",
    "                return 0\n",
    "        if prices == sorted(prices, reverse = True):\n",
    "            return 0\n",
    "        elif prices == sorted(prices):\n",
    "            return prices[-1] - prices[0]\n",
    "        elif max(prices) != prices[0]:\n",
    "            del prices[prices.index(max(prices))+1:]\n",
    "            prices = list(dict.fromkeys(prices))\n",
    "            return max(prices) - min(prices)\n",
    "        else:\n",
    "            if prices.index(min(prices)) > prices.index(max(prices)):\n",
    "                prices = prices[1:]\n",
    "                prices = prices[prices.index(min(prices)):]\n",
    "                prices = list(dict.fromkeys(prices))\n",
    "                return max(prices) - min(prices)\n",
    "            prices = prices[1:]\n",
    "            prices = prices[:prices.index(max(prices))+1]\n",
    "            prices = list(dict.fromkeys(prices))\n",
    "            return max(prices) - min(prices)\n",
    "            "
   ]
  },
  {
   "cell_type": "code",
   "execution_count": null,
   "metadata": {},
   "outputs": [],
   "source": []
  }
 ],
 "metadata": {
  "kernelspec": {
   "display_name": "Python 3",
   "language": "python",
   "name": "python3"
  },
  "language_info": {
   "codemirror_mode": {
    "name": "ipython",
    "version": 3
   },
   "file_extension": ".py",
   "mimetype": "text/x-python",
   "name": "python",
   "nbconvert_exporter": "python",
   "pygments_lexer": "ipython3",
   "version": "3.7.3"
  }
 },
 "nbformat": 4,
 "nbformat_minor": 2
}
