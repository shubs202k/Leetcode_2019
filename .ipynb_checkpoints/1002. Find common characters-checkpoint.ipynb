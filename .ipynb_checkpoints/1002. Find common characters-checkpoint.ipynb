{
 "cells": [
  {
   "cell_type": "code",
   "execution_count": 97,
   "metadata": {},
   "outputs": [],
   "source": [
    "from typing import List\n",
    "class Solution:\n",
    "    def commonChars(self, A: List[str]) -> List[str]:\n",
    "        chars = [{char:word.count(char) for char in word} for word in A]\n",
    "        common_keys = list(set.intersection(*map(set, chars)))\n",
    "        result = [[char]*(min([x[char] for x in chars])) for char in common_keys]\n",
    "        return [item for sublist in result for item in sublist]"
   ]
  }
 ],
 "metadata": {
  "kernelspec": {
   "display_name": "Python 3",
   "language": "python",
   "name": "python3"
  },
  "language_info": {
   "codemirror_mode": {
    "name": "ipython",
    "version": 3
   },
   "file_extension": ".py",
   "mimetype": "text/x-python",
   "name": "python",
   "nbconvert_exporter": "python",
   "pygments_lexer": "ipython3",
   "version": "3.7.3"
  }
 },
 "nbformat": 4,
 "nbformat_minor": 2
}
