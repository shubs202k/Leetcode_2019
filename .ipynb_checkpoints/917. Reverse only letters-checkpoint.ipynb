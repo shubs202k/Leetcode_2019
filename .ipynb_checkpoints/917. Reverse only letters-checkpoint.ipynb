{
 "cells": [
  {
   "cell_type": "code",
   "execution_count": 178,
   "metadata": {},
   "outputs": [],
   "source": [
    "class Solution:\n",
    "    def reverseOnlyLetters(self, S: str) -> str:\n",
    "        import re\n",
    "        punctuations = re.findall(r'[^a-zA-Z]',S)\n",
    "        punct_index = [index for index in range(len(S)) if S[index] in punctuations]\n",
    "        mapping = dict(zip(punct_index,punctuations))\n",
    "        for char in punctuations:\n",
    "            S = S.replace(char,'')\n",
    "        t = S[::-1]\n",
    "        chars = [char for char in t]\n",
    "        for index,punct in mapping.items():\n",
    "            chars.insert(index,mapping[index])  \n",
    "        return ''.join(chars)    "
   ]
  },
  {
   "cell_type": "code",
   "execution_count": null,
   "metadata": {},
   "outputs": [],
   "source": []
  }
 ],
 "metadata": {
  "kernelspec": {
   "display_name": "Python 3",
   "language": "python",
   "name": "python3"
  },
  "language_info": {
   "codemirror_mode": {
    "name": "ipython",
    "version": 3
   },
   "file_extension": ".py",
   "mimetype": "text/x-python",
   "name": "python",
   "nbconvert_exporter": "python",
   "pygments_lexer": "ipython3",
   "version": "3.7.3"
  }
 },
 "nbformat": 4,
 "nbformat_minor": 2
}
