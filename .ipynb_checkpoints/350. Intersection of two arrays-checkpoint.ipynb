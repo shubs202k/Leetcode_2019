{
 "cells": [
  {
   "cell_type": "code",
   "execution_count": 93,
   "metadata": {},
   "outputs": [],
   "source": [
    "from typing import List\n",
    "class Solution:\n",
    "    def intersect(self, nums1: List[int], nums2: List[int]) -> List[int]:\n",
    "        from functools import reduce\n",
    "        import operator\n",
    "        if not ((nums1) and (nums2)):\n",
    "            return []\n",
    "        nums1_dict = {digit: nums1.count(digit) for digit in nums1}\n",
    "        nums2_dict = {digit: nums2.count(digit) for digit in nums2}\n",
    "        common = list((set(nums1)).intersection(set(nums2)))\n",
    "        result = [[digit]*(min(nums1_dict[digit],nums2_dict[digit])) \n",
    "                      for digit in common]\n",
    "        if not result:\n",
    "            return []\n",
    "        return reduce(lambda x,y: x+y,result)"
   ]
  },
  {
   "cell_type": "code",
   "execution_count": null,
   "metadata": {},
   "outputs": [],
   "source": []
  }
 ],
 "metadata": {
  "kernelspec": {
   "display_name": "Python 3",
   "language": "python",
   "name": "python3"
  },
  "language_info": {
   "codemirror_mode": {
    "name": "ipython",
    "version": 3
   },
   "file_extension": ".py",
   "mimetype": "text/x-python",
   "name": "python",
   "nbconvert_exporter": "python",
   "pygments_lexer": "ipython3",
   "version": "3.7.3"
  }
 },
 "nbformat": 4,
 "nbformat_minor": 2
}
