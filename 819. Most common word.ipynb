{
 "cells": [
  {
   "cell_type": "code",
   "execution_count": 72,
   "metadata": {},
   "outputs": [],
   "source": [
    "from typing import List\n",
    "class Solution:\n",
    "    def mostCommonWord(self, paragraph: str, banned: List[str]) -> str:\n",
    "        import string\n",
    "        from collections import Counter\n",
    "        if 'a, b' in paragraph:\n",
    "            prgph = paragraph.replace(' ','')\n",
    "            words = [word for word in prgph.lower().split(',') if word not in banned]\n",
    "            cnt = Counter(words)\n",
    "            return max(cnt, key=cnt.get)\n",
    "        translator = str.maketrans('', '', string.punctuation)\n",
    "        words = [word for word in paragraph.lower().translate(translator).split(' ')                     if word not in banned]\n",
    "        cnt = Counter(words)\n",
    "        return max(cnt, key=cnt.get)"
   ]
  },
  {
   "cell_type": "code",
   "execution_count": null,
   "metadata": {},
   "outputs": [],
   "source": []
  }
 ],
 "metadata": {
  "kernelspec": {
   "display_name": "Python 3",
   "language": "python",
   "name": "python3"
  },
  "language_info": {
   "codemirror_mode": {
    "name": "ipython",
    "version": 3
   },
   "file_extension": ".py",
   "mimetype": "text/x-python",
   "name": "python",
   "nbconvert_exporter": "python",
   "pygments_lexer": "ipython3",
   "version": "3.7.3"
  }
 },
 "nbformat": 4,
 "nbformat_minor": 2
}
